{
 "cells": [
  {
   "cell_type": "code",
   "execution_count": null,
   "id": "402e288e-3ea9-4d99-8935-66951db38df2",
   "metadata": {},
   "outputs": [],
   "source": []
  }
 ],
 "metadata": {
  "kernelspec": {
   "display_name": "",
   "name": ""
  },
  "language_info": {
   "name": ""
  }
 },
 "nbformat": 4,
 "nbformat_minor": 5
}
